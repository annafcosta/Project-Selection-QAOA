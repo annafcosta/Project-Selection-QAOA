{
 "cells": [
  {
   "cell_type": "code",
   "execution_count": 3,
   "metadata": {},
   "outputs": [],
   "source": [
    "import warnings\n",
    "warnings.filterwarnings(\"ignore\", category=DeprecationWarning)\n",
    "warnings.filterwarnings(\"ignore\", category=UserWarning)"
   ]
  },
  {
   "cell_type": "code",
   "execution_count": 4,
   "metadata": {},
   "outputs": [],
   "source": [
    "from qiskit_optimization.problems import QuadraticProgram\n",
    "from qiskit_optimization.converters import QuadraticProgramToQubo\n",
    "from qiskit_optimization.translators import from_docplex_mp\n",
    "from qiskit.quantum_info import SparsePauliOp\n",
    "from qiskit_aer import AerSimulator\n",
    "from qiskit.transpiler.preset_passmanagers import generate_preset_pass_manager\n",
    "from qiskit.circuit.library import QAOAAnsatz\n",
    "from qiskit_ibm_runtime import Session, SamplerV2 as Sampler, EstimatorV2 as Estimator\n",
    "import numpy as np\n",
    "import itertools\n",
    "from scipy.optimize import minimize\n",
    "import matplotlib.pyplot as plt\n",
    "from collections import Counter"
   ]
  },
  {
   "cell_type": "markdown",
   "metadata": {},
   "source": [
    "### Problem\n",
    "\n",
    "$$\\text{Maximize } z = 10x_1 + 5x_2$$\n",
    "#### Restrictions\n",
    "\n",
    "Year 1:  $ 3x_1 + 2x_2 \\leq 5$\n",
    "\n",
    "Year 2:  $ 2x_1 + 4x_2 \\leq 5$"
   ]
  },
  {
   "cell_type": "code",
   "execution_count": 15,
   "metadata": {},
   "outputs": [],
   "source": [
    "def create_project_selection_qubo(alpha):\n",
    "    mu = [10, 5]\n",
    "    constraints = [[3, 2], [2, 4]]\n",
    "    rhs = [5, 5]  \n",
    "\n",
    "    # Initialize empty QUBO model\n",
    "    qp = QuadraticProgram('Project_Selection_QUBO')\n",
    "\n",
    "    for i in range(len(mu)):\n",
    "        qp.binary_var(name=f'x{i}')\n",
    "\n",
    "    qp.minimize()\n",
    "\n",
    "    # original objective function\n",
    "    for i in range(len(mu)):\n",
    "        qp.objective.linear[f'x{i}'] = -mu[i]\n",
    "\n",
    "    for coeffs, limit in zip(constraints, rhs):\n",
    "        # Constant term from penalty expansion \n",
    "        qp.objective.constant += alpha * (limit ** 2) \n",
    "        # Linear terms from penalty expansion [(-2α * b * c_i * x_i)]\n",
    "        for i in range(len(mu)):\n",
    "            qp.objective.linear[f'x{i}'] += -2 * alpha * limit * coeffs[i]\n",
    "            # All quadratic cross terms [(α * c_i * c_j * x_i * x_j)]\n",
    "            for j in range(len(mu)):\n",
    "                qp.objective.quadratic[f'x{i}', f'x{j}'] += alpha * coeffs[i] * coeffs[j]\n",
    "\n",
    "    return qp\n"
   ]
  },
  {
   "cell_type": "code",
   "execution_count": 6,
   "metadata": {},
   "outputs": [],
   "source": [
    "def hamiltonian_offset(problem):\n",
    "    return problem.to_ising()\n",
    "\n",
    "def create_circuit(hamiltonian, p, optmization_level, backend):\n",
    "    circuit = QAOAAnsatz(cost_operator=hamiltonian, reps=p)\n",
    "    circuit.measure_all()\n",
    "\n",
    "    pm = generate_preset_pass_manager(optimization_level=optmization_level, backend=backend)\n",
    "\n",
    "    return pm.run(circuit)\n",
    "\n",
    "def cost_function_estimator(params, ansatz, hamiltonian, estimator):\n",
    "    isa_hamiltonian = hamiltonian.apply_layout(ansatz.layout)\n",
    "    \n",
    "    pub = (ansatz, isa_hamiltonian, params)\n",
    "    job = estimator.run([pub])\n",
    "\n",
    "    results = job.result()[0]\n",
    "    cost = results.data.evs\n",
    "\n",
    "    return cost\n",
    "\n",
    "backend = AerSimulator()\n",
    "\n",
    "def to_bitstring(integer, num_bits):\n",
    "    result = np.binary_repr(integer, width=num_bits)\n",
    "    return [int(digit) for digit in result]\n",
    "\n",
    "def run_experiment(repetitions, num_qb, p, shots_estimator, shots_sampler, optimization_level, hamiltonian):\n",
    "    circuit = create_circuit(hamiltonian, p, optimization_level, backend)\n",
    "\n",
    "    estimator = Estimator(mode=backend)\n",
    "    estimator.options.default_shots = shots_estimator\n",
    "\n",
    "    sampler  = Sampler(mode=backend)\n",
    "    sampler.options.default_shots = shots_sampler\n",
    "\n",
    "    most_likely_bitstrings = []\n",
    "    for _ in range(repetitions):\n",
    "        innitial_gamma = 2 * np.pi * np.random.rand()\n",
    "        innitial_beta = 2 * np.pi * np.random.rand()\n",
    "        init_params = [val for _ in range(p) for val in (innitial_gamma, innitial_beta)]\n",
    "\n",
    "        result = minimize(cost_function_estimator, init_params, args=(circuit, hamiltonian, estimator), method=\"COBYLA\", tol=1e-2)\n",
    "\n",
    "        parameterized_circuit = circuit.assign_parameters(result.x)\n",
    "        pub = (parameterized_circuit, )\n",
    "        job = sampler.run([pub])\n",
    "        counts_int = job.result()[0].data.meas.get_int_counts()\n",
    "        counts_bin = job.result()[0].data.meas.get_counts()\n",
    "        shots = sum(counts_int.values())\n",
    "        final_distribution_int = {key: val/shots for key, val in counts_int.items()}\n",
    "        final_distribution_bin = {key: val/shots for key, val in counts_bin.items()}\n",
    "\n",
    "        keys = list(final_distribution_int.keys())\n",
    "        values = list(final_distribution_int.values())\n",
    "        most_likely = keys[np.argmax(np.abs(values))]\n",
    "        most_likely_bitstring = to_bitstring(most_likely, num_qb)\n",
    "        most_likely_bitstring.reverse()\n",
    "        most_likely_bitstrings.append(most_likely_bitstring)\n",
    "\n",
    "    \n",
    "    return most_likely_bitstrings"
   ]
  },
  {
   "cell_type": "code",
   "execution_count": 7,
   "metadata": {},
   "outputs": [],
   "source": [
    "def run_experiment_all_values(repetitions, num_qb, p, shots_estimator, shots_sampler, optimization_level, hamiltonian):\n",
    "    circuit = create_circuit(hamiltonian, p, optimization_level, backend)\n",
    "\n",
    "    estimator = Estimator(mode=backend)\n",
    "    estimator.options.default_shots = shots_estimator\n",
    "\n",
    "    sampler  = Sampler(mode=backend)\n",
    "    sampler.options.default_shots = shots_sampler\n",
    "\n",
    "    all_bitstrings = []\n",
    "    for _ in range(repetitions):\n",
    "        innitial_gamma = 2 * np.pi * np.random.rand()\n",
    "        innitial_beta = 2 * np.pi * np.random.rand()\n",
    "        init_params = [val for _ in range(p) for val in (innitial_gamma, innitial_beta)]\n",
    "\n",
    "        result = minimize(cost_function_estimator, init_params, args=(circuit, hamiltonian, estimator), method=\"COBYLA\", tol=1e-2)\n",
    "\n",
    "        parameterized_circuit = circuit.assign_parameters(result.x)\n",
    "        pub = (parameterized_circuit, )\n",
    "        job = sampler.run([pub])\n",
    "        counts_int = job.result()[0].data.meas.get_int_counts()\n",
    "        counts_bin = job.result()[0].data.meas.get_counts()\n",
    "        shots = sum(counts_int.values())\n",
    "\n",
    "        for bitstring_int, count in counts_int.items():\n",
    "            bitstring = to_bitstring(bitstring_int, num_qb)\n",
    "            bitstring.reverse()\n",
    "            all_bitstrings.extend([bitstring] * count)\n",
    "\n",
    "    return all_bitstrings"
   ]
  },
  {
   "cell_type": "code",
   "execution_count": 8,
   "metadata": {},
   "outputs": [],
   "source": [
    "def plot_graph_bitstrings_results(results, top=None):\n",
    "    bitstring_results = [\"\".join(map(str, sublist)) for sublist in results]\n",
    "    counts = Counter(bitstring_results)\n",
    "\n",
    "    if top is not None:\n",
    "        selected_bitstrings = list(counts.keys())[:top]\n",
    "    else:\n",
    "        selected_bitstrings = list(counts.keys())\n",
    "\n",
    "    occurrences = [counts[bitstring] for bitstring in selected_bitstrings]\n",
    "\n",
    "    fig = plt.figure(figsize=(15, 6))\n",
    "    ax = fig.add_subplot(1, 1, 1)\n",
    "    plt.xticks(rotation=45)\n",
    "    plt.title(\"Results\")\n",
    "    plt.xlabel(\"Bitstrings\")\n",
    "    plt.ylabel(\"Occurrences\")\n",
    "\n",
    "    bars = ax.bar(selected_bitstrings, occurrences, color=\"tab:grey\")\n",
    "\n",
    "    if selected_bitstrings:\n",
    "        most_common_bitstring = max(selected_bitstrings, key=lambda b: counts[b])\n",
    "        for i, bitstring in enumerate(selected_bitstrings):\n",
    "            if bitstring == most_common_bitstring:\n",
    "                bars[i].set_color(\"tab:purple\")\n",
    "\n",
    "    plt.tight_layout()\n",
    "    plt.show()"
   ]
  },
  {
   "cell_type": "code",
   "execution_count": 16,
   "metadata": {},
   "outputs": [
    {
     "name": "stdout",
     "output_type": "stream",
     "text": [
      "Problem name: Project_Selection_QUBO\n",
      "\n",
      "Minimize\n",
      "  13*x0^2 + 28*x0*x1 + 20*x1^2 - 60*x0 - 65*x1 + 50\n",
      "\n",
      "Subject to\n",
      "  No constraints\n",
      "\n",
      "  Binary variables (2)\n",
      "    x0 x1\n",
      "\n"
     ]
    }
   ],
   "source": [
    "alpha = 1\n",
    "qubo_model_p = create_project_selection_qubo(alpha)\n",
    "\n",
    "print(qubo_model_p.prettyprint())\n"
   ]
  },
  {
   "cell_type": "code",
   "execution_count": null,
   "metadata": {},
   "outputs": [
    {
     "name": "stdout",
     "output_type": "stream",
     "text": [
      "[0, 0] → Return: 50.0\n",
      "[0, 1] → Return: 5.0\n",
      "[1, 0] → Return: 3.0\n",
      "[1, 1] → Return: -14.0\n"
     ]
    }
   ],
   "source": [
    "all_combinations = list(itertools.product([0, 1], repeat=2))\n",
    "\n",
    "for combination in all_combinations:\n",
    "    combination_list = list(combination)  \n",
    "    value = qubo_model_p.objective.evaluate(combination_list)\n",
    "    print(f\"{combination_list} → Return: {value}\")"
   ]
  },
  {
   "cell_type": "code",
   "execution_count": 17,
   "metadata": {},
   "outputs": [
    {
     "name": "stdout",
     "output_type": "stream",
     "text": [
      "SparsePauliOp(['IZ', 'ZI', 'ZZ'],\n",
      "              coeffs=[16.5+0.j, 15.5+0.j,  7. +0.j]) 11.0\n"
     ]
    }
   ],
   "source": [
    "hamiltonian, offset = hamiltonian_offset(qubo_model_p)\n",
    "print(hamiltonian, offset)"
   ]
  },
  {
   "cell_type": "code",
   "execution_count": 18,
   "metadata": {},
   "outputs": [
    {
     "data": {
      "image/png": "[encoded data removed]",
      "text/plain": [
       "<Figure size 914.831x284.278 with 1 Axes>"
      ]
     },
     "execution_count": 18,
     "metadata": {},
     "output_type": "execute_result"
    }
   ],
   "source": [
    "circuit = create_circuit(hamiltonian, 1, 3, backend)\n",
    "\n",
    "circuit.draw(output=\"mpl\", style=\"iqp\")"
   ]
  },
  {
   "cell_type": "code",
   "execution_count": 19,
   "metadata": {},
   "outputs": [],
   "source": [
    "results = run_experiment(30, 2, 2, 5000, 5000, 3, hamiltonian)"
   ]
  },
  {
   "cell_type": "code",
   "execution_count": 20,
   "metadata": {},
   "outputs": [
    {
     "data": {
      "image/png": "[encoded data removed]",
      "text/plain": [
       "<Figure size 1500x600 with 1 Axes>"
      ]
     },
     "metadata": {},
     "output_type": "display_data"
    }
   ],
   "source": [
    "plot_graph_bitstrings_results(results)"
   ]
  },
  {
   "cell_type": "code",
   "execution_count": null,
   "metadata": {},
   "outputs": [],
   "source": []
  }
 ],
 "metadata": {
  "kernelspec": {
   "display_name": ".venv (3.12.3)",
   "language": "python",
   "name": "python3"
  },
  "language_info": {
   "codemirror_mode": {
    "name": "ipython",
    "version": 3
   },
   "file_extension": ".py",
   "mimetype": "text/x-python",
   "name": "python",
   "nbconvert_exporter": "python",
   "pygments_lexer": "ipython3",
   "version": "3.12.3"
  }
 },
 "nbformat": 4,
 "nbformat_minor": 2
}
